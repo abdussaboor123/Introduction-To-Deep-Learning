{
 "cells": [
  {
   "cell_type": "code",
   "execution_count": 2,
   "metadata": {},
   "outputs": [
    {
     "name": "stdout",
     "output_type": "stream",
     "text": [
      "[9, 11, 13, 15, 17]\n"
     ]
    }
   ],
   "source": [
    "#pratice program to add a number to each member if list using python\n",
    "elements = [2,4,6,8,10]\n",
    "for i in range(len(elements)):\n",
    "    elements[i] += 7\n",
    "print (elements)"
   ]
  },
  {
   "cell_type": "code",
   "execution_count": 4,
   "metadata": {},
   "outputs": [],
   "source": [
    "import numpy as np"
   ]
  },
  {
   "cell_type": "code",
   "execution_count": 6,
   "metadata": {},
   "outputs": [
    {
     "name": "stdout",
     "output_type": "stream",
     "text": [
      "[ 6  8 10 12 14]\n"
     ]
    }
   ],
   "source": [
    "#pratice program to add a number to each member if list using numpy in python\n",
    "val=[1,3,5,7,9]\n",
    "value =np.array(val)+5\n",
    "print(value)"
   ]
  },
  {
   "cell_type": "code",
   "execution_count": 7,
   "metadata": {},
   "outputs": [
    {
     "name": "stdout",
     "output_type": "stream",
     "text": [
      "[10 12 14 16 18]\n"
     ]
    }
   ],
   "source": [
    "#same thing but with add biult in function\n",
    "v=[2,4,6,8,10]\n",
    "valu=np.add(v,8)\n",
    "print(valu)"
   ]
  },
  {
   "cell_type": "code",
   "execution_count": 11,
   "metadata": {},
   "outputs": [
    {
     "name": "stdout",
     "output_type": "stream",
     "text": [
      "a= [[1 2]\n",
      " [3 4]]\n",
      "b= [[5 6]\n",
      " [7 8]]\n",
      "c= [[ 6  8]\n",
      " [10 12]]\n"
     ]
    }
   ],
   "source": [
    "#adding two matics\n",
    "a=np.array([[1,2],[3,4]])\n",
    "print(\"a=\",a)\n",
    "b=np.array([[5,6],[7,8]])\n",
    "print(\"b=\",b)\n",
    "c=a+b\n",
    "print(\"c=\",c)"
   ]
  }
 ],
 "metadata": {
  "kernelspec": {
   "display_name": "Python 3",
   "language": "python",
   "name": "python3"
  },
  "language_info": {
   "codemirror_mode": {
    "name": "ipython",
    "version": 3
   },
   "file_extension": ".py",
   "mimetype": "text/x-python",
   "name": "python",
   "nbconvert_exporter": "python",
   "pygments_lexer": "ipython3",
   "version": "3.7.6"
  }
 },
 "nbformat": 4,
 "nbformat_minor": 4
}
