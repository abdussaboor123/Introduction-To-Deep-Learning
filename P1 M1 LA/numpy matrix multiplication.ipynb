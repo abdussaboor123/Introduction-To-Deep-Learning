{
 "cells": [
  {
   "cell_type": "code",
   "execution_count": 13,
   "metadata": {},
   "outputs": [
    {
     "name": "stdout",
     "output_type": "stream",
     "text": [
      "a= [[1 2 3]\n",
      " [4 2 4]]\n",
      "C= [[0.75 1.5  2.25]\n",
      " [3.   1.5  3.  ]]\n",
      "B= [[8 9 3]\n",
      " [3 4 2]]\n",
      "D= [[18 19 13]\n",
      " [13 14 12]]\n",
      "E= [[0.04166667 0.07894737 0.17307692]\n",
      " [0.23076923 0.10714286 0.25      ]]\n"
     ]
    }
   ],
   "source": [
    "#performing bodmas operations on matrices\n",
    "import numpy as np\n",
    "a= np.array([[1,2,3],[4,2,4]])\n",
    "print (\"a=\",a)\n",
    "c=np.multiply(a,0.75)\n",
    "print(\"C=\",c)\n",
    "b=np.array([[8,9,3],[3,4,2]])\n",
    "print(\"B=\",b)\n",
    "d=np.add(b,10)\n",
    "print(\"D=\",d)\n",
    "e=np.divide(c,d)\n",
    "print(\"E=\",e)\n"
   ]
  },
  {
   "cell_type": "code",
   "execution_count": 21,
   "metadata": {},
   "outputs": [
    {
     "name": "stdout",
     "output_type": "stream",
     "text": [
      "a= [[1 2 3]\n",
      " [4 2 4]]\n",
      "C= [[0.75 1.5  2.25]\n",
      " [3.   1.5  3.  ]]\n",
      "shape of c (2, 3)\n",
      "B= [[8 9 3]\n",
      " [3 4 2]\n",
      " [3 4 1]]\n",
      "D= [[18 19 13]\n",
      " [13 14 12]\n",
      " [13 14 11]]\n",
      "shape of d (3, 3)\n",
      "E= [[ 62.25  66.75  52.5 ]\n",
      " [112.5  120.    90.  ]]\n",
      "shape of e (2, 3)\n"
     ]
    }
   ],
   "source": [
    "#proper matrix multiplication making sure of dimentions and dot product of rows and coulmn\n",
    "a= np.array([[1,2,3],[4,2,4]])\n",
    "print (\"a=\",a)\n",
    "c=np.multiply(a,0.75)\n",
    "print(\"C=\",c)\n",
    "print (\"shape of c\",c.shape)\n",
    "b=np.array([[8,9,3],[3,4,2],[3,4,1]])\n",
    "print(\"B=\",b)\n",
    "d=np.add(b,10)\n",
    "print(\"D=\",d)\n",
    "print(\"shape of d\",d.shape)\n",
    "e=np.matmul(c,d)\n",
    "print(\"E=\",e)\n",
    "print(\"shape of e\",e.shape)"
   ]
  },
  {
   "cell_type": "code",
   "execution_count": 22,
   "metadata": {},
   "outputs": [
    {
     "ename": "ValueError",
     "evalue": "matmul: Input operand 1 has a mismatch in its core dimension 0, with gufunc signature (n?,k),(k,m?)->(n?,m?) (size 2 is different from 3)",
     "output_type": "error",
     "traceback": [
      "\u001b[1;31m---------------------------------------------------------------------------\u001b[0m",
      "\u001b[1;31mValueError\u001b[0m                                Traceback (most recent call last)",
      "\u001b[1;32m<ipython-input-22-8757ebf98608>\u001b[0m in \u001b[0;36m<module>\u001b[1;34m\u001b[0m\n\u001b[1;32m----> 1\u001b[1;33m \u001b[0mf\u001b[0m\u001b[1;33m=\u001b[0m\u001b[0mnp\u001b[0m\u001b[1;33m.\u001b[0m\u001b[0mmatmul\u001b[0m\u001b[1;33m(\u001b[0m\u001b[0md\u001b[0m\u001b[1;33m,\u001b[0m\u001b[0mc\u001b[0m\u001b[1;33m)\u001b[0m\u001b[1;33m\u001b[0m\u001b[1;33m\u001b[0m\u001b[0m\n\u001b[0m\u001b[0;32m      2\u001b[0m \u001b[0mprint\u001b[0m\u001b[1;33m(\u001b[0m\u001b[0mf\u001b[0m\u001b[1;33m)\u001b[0m\u001b[1;33m\u001b[0m\u001b[1;33m\u001b[0m\u001b[0m\n",
      "\u001b[1;31mValueError\u001b[0m: matmul: Input operand 1 has a mismatch in its core dimension 0, with gufunc signature (n?,k),(k,m?)->(n?,m?) (size 2 is different from 3)"
     ]
    }
   ],
   "source": [
    "#it does not work because of the mismatch of dimention of rows and coulmn \n",
    "f=np.matmul(d,c)\n",
    "print(f)"
   ]
  }
 ],
 "metadata": {
  "kernelspec": {
   "display_name": "Python 3",
   "language": "python",
   "name": "python3"
  },
  "language_info": {
   "codemirror_mode": {
    "name": "ipython",
    "version": 3
   },
   "file_extension": ".py",
   "mimetype": "text/x-python",
   "name": "python",
   "nbconvert_exporter": "python",
   "pygments_lexer": "ipython3",
   "version": "3.7.6"
  }
 },
 "nbformat": 4,
 "nbformat_minor": 4
}
