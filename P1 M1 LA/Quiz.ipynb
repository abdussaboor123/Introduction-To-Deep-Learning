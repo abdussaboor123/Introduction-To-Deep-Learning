{
 "cells": [
  {
   "cell_type": "code",
   "execution_count": 40,
   "metadata": {},
   "outputs": [
    {
     "name": "stdout",
     "output_type": "stream",
     "text": [
      "value of input array= [[-1  2]\n",
      " [ 7  9]]\n",
      "the minimum value in input array = -1\n",
      "the value of input array after subtracting minimum value is= [[ 0  3]\n",
      " [ 8 10]]\n",
      "inputs_minus_min =  [[ 0  3]\n",
      " [ 8 10]]\n",
      "inputs_div_max= [[0.  0.3]\n",
      " [0.8 1. ]]\n",
      "None\n"
     ]
    }
   ],
   "source": [
    "#breaking a 1 dimentional list into 2 dimentional array\n",
    "# find the minimum value in input_array and subtract that value from all the elements of input_array. Store the result in inputs_minus_min\n",
    "# TODO: find the maximum value in inputs_minus_min and divide all of the values in inputs_minus_min by the maximum value.Store the results in inputs_div_max.\n",
    "\n",
    "import numpy as np\n",
    "def prepare_inputs(inputs):\n",
    "    input_array=np.array(inputs).reshape(2,2)\n",
    "    print (\"value of input array=\",input_array)\n",
    "    b=input_array.min()\n",
    "    print (\"the minimum value in input array =\",b)\n",
    "    c=input_array-b\n",
    "    print (\"the value of input array after subtracting minimum value is=\",c)\n",
    "    inputs_minus_min=c\n",
    "    print (\"inputs_minus_min = \",inputs_minus_min)\n",
    "    inputs_div_max= inputs_minus_min/inputs_minus_min.max()\n",
    "    print(\"inputs_div_max=\",inputs_div_max)\n",
    "z=prepare_inputs(inputs=[-1,2,7,9])\n",
    "print(z)\n",
    "\n"
   ]
  },
  {
   "cell_type": "code",
   "execution_count": 34,
   "metadata": {},
   "outputs": [
    {
     "name": "stdout",
     "output_type": "stream",
     "text": [
      "m1= [[1 2 3]\n",
      " [4 5 6]]\n",
      "(2, 3)\n",
      "m2= [[1]\n",
      " [2]\n",
      " [3]\n",
      " [4]]\n",
      "(4, 1)\n",
      "m1 [[1]\n",
      " [2]\n",
      " [3]\n",
      " [4]] m2 [[1 2 3]\n",
      " [4 5 6]]\n",
      "y= False\n"
     ]
    }
   ],
   "source": [
    "# TODO: Check the shapes of the matrices m1 and m2.  m1 and m2 will be ndarray objects.Return False if the shapes cannot be used for matrix multiplication. You may not use a transpose pass\n",
    "import numpy as np\n",
    "def multiply_inputs(m1, m2):\n",
    "    print(\"m1=\",m1)\n",
    "    print(m1.shape)\n",
    "    print(\"m2=\",m2)\n",
    "    print(m2.shape)\n",
    "    if(m1.shape[1] != m2.shape[0]):\n",
    "        swap=m1\n",
    "        m1=m2\n",
    "        m2=swap\n",
    "        print(\"m1\",m1,\"m2\",m2)\n",
    "        if(m1.shape[1] != m2.shape[0]):\n",
    "            return False\n",
    "        else:\n",
    "            x=np.matmul(m1,m2)\n",
    "            return x\n",
    "    else:\n",
    "        x=np.matmul(m1,m2)\n",
    "        return x\n",
    "       \n",
    "y=multiply_inputs(m1=np.array([[1,2,3],[4,5,6]]),m2=np.array([[1],[2],[3],[4]]))\n",
    "print(\"y=\",y)\n",
    "\n"
   ]
  },
  {
   "cell_type": "code",
   "execution_count": 33,
   "metadata": {},
   "outputs": [
    {
     "name": "stdout",
     "output_type": "stream",
     "text": [
      "m1= [[1 2 3]\n",
      " [4 5 6]]\n",
      "(2, 3)\n",
      "m2= [[1]\n",
      " [2]\n",
      " [3]]\n",
      "(3, 1)\n",
      "y= [[14]\n",
      " [32]]\n"
     ]
    }
   ],
   "source": [
    "# TODO: Check the shapes of the matrices m1 and m2.  m1 and m2 will be ndarray objects.Return False if the shapes cannot be used for matrix multiplication. You may not use a transpose pass\n",
    "def multiply_inputs(m1, m2):\n",
    "    print(\"m1=\",m1)\n",
    "    print(m1.shape)\n",
    "    print(\"m2=\",m2)\n",
    "    print(m2.shape)\n",
    "    if(m1.shape[1] != m2.shape[0]):\n",
    "        swap=m1\n",
    "        m1=m2\n",
    "        m2=swap\n",
    "        if(m1.shape[1] != m2.shape[0]):\n",
    "            return False\n",
    "        else:\n",
    "            x=np.matmul(m1,m2)\n",
    "            return x\n",
    "    else:\n",
    "            x=np.matmul(m1,m2)\n",
    "            return x\n",
    "y=multiply_inputs(m1=np.array([[1,2,3],[4,5,6]]),m2=np.array([[1],[2],[3]]))\n",
    "print(\"y=\",y)\n",
    "\n"
   ]
  },
  {
   "cell_type": "code",
   "execution_count": 31,
   "metadata": {},
   "outputs": [
    {
     "name": "stdout",
     "output_type": "stream",
     "text": [
      "m1= [[1 2 3]\n",
      " [4 5 6]]\n",
      "(2, 3)\n",
      "m2= [[1 2]]\n",
      "(1, 2)\n",
      "y= [[ 9 12 15]]\n"
     ]
    }
   ],
   "source": [
    "# TODO: Check the shapes of the matrices m1 and m2.  m1 and m2 will be ndarray objects.Return False if the shapes cannot be used for matrix multiplication. You may not use a transpose pass\n",
    "def multiply_inputs(m1, m2):\n",
    "    print(\"m1=\",m1)\n",
    "    print(m1.shape)\n",
    "    print(\"m2=\",m2)\n",
    "    print(m2.shape)\n",
    "    if(m1.shape[1] != m2.shape[0]):\n",
    "        swap=m1\n",
    "        m1=m2\n",
    "        m2=swap\n",
    "        if(m1.shape[1] != m2.shape[0]):\n",
    "            return False\n",
    "        else:\n",
    "            x=np.matmul(m1,m2)\n",
    "            return x\n",
    "y=multiply_inputs(m1=np.array([[1,2,3],[4,5,6]]),m2=np.array([[1,2]]))\n",
    "print(\"y=\",y)\n"
   ]
  },
  {
   "cell_type": "code",
   "execution_count": 40,
   "metadata": {},
   "outputs": [
    {
     "name": "stdout",
     "output_type": "stream",
     "text": [
      "the mean of list values are= 2.6666666666666665\n"
     ]
    }
   ],
   "source": [
    "def find_mean(values):\n",
    "    v=np.average(values)\n",
    "    return v\n",
    "w=find_mean(values=[1,3,4])\n",
    "print(\"the mean of list values are=\",w)\n",
    "\n",
    "\n"
   ]
  }
 ],
 "metadata": {
  "kernelspec": {
   "display_name": "Python 3",
   "language": "python",
   "name": "python3"
  },
  "language_info": {
   "codemirror_mode": {
    "name": "ipython",
    "version": 3
   },
   "file_extension": ".py",
   "mimetype": "text/x-python",
   "name": "python",
   "nbconvert_exporter": "python",
   "pygments_lexer": "ipython3",
   "version": "3.7.6"
  }
 },
 "nbformat": 4,
 "nbformat_minor": 4
}
