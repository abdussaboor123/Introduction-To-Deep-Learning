{
 "cells": [
  {
   "cell_type": "code",
   "execution_count": 6,
   "metadata": {},
   "outputs": [
    {
     "name": "stdout",
     "output_type": "stream",
     "text": [
      "a= [[1 2 3]\n",
      " [3 2 1]\n",
      " [4 5 6]\n",
      " [7 8 9]]\n",
      "shape of a =  (4, 3)\n",
      "b= [[1 2 3]\n",
      " [4 3 2]]\n",
      "shape of b =  (2, 3)\n",
      "d= [[1 4]\n",
      " [2 3]\n",
      " [3 2]]\n",
      "shape of d= (3, 2)\n",
      "c= [[14 16]\n",
      " [10 20]\n",
      " [32 43]\n",
      " [50 70]]\n",
      "shape of c = (4, 2)\n"
     ]
    }
   ],
   "source": [
    "#transposing a matrix and multiplying it (transposed because the dimention diddnt match transposting helps matching dimention in some cases)\n",
    "import numpy as np\n",
    "a=np.array([[1,2,3],[3,2,1],[4,5,6],[7,8,9]])\n",
    "print (\"a=\",a)\n",
    "print (\"shape of a = \",a.shape)\n",
    "b=np.array([[1,2,3],[4,3,2]])\n",
    "print(\"b=\",b)\n",
    "print (\"shape of b = \",b.shape)\n",
    "d=b.T\n",
    "print(\"d=\",d)\n",
    "print (\"shape of d=\",d.shape)\n",
    "c=np.matmul(a,d)\n",
    "print (\"c=\",c)\n",
    "print (\"shape of c =\",c.shape)"
   ]
  },
  {
   "cell_type": "code",
   "execution_count": 12,
   "metadata": {},
   "outputs": [
    {
     "name": "stdout",
     "output_type": "stream",
     "text": [
      "e= [[0 3 4 7]\n",
      " [2 2 5 8]\n",
      " [3 1 6 9]]\n",
      "e =  [[0 3 4 7]\n",
      " [2 2 5 8]\n",
      " [3 1 6 9]]\n",
      "a= [[0 2 3]\n",
      " [3 2 1]\n",
      " [4 5 6]\n",
      " [7 8 9]]\n"
     ]
    }
   ],
   "source": [
    "#changing the value of transposed resultant matrix\n",
    "#when u change the value in a transposed matrix the value in the origmal matrix may change\n",
    "e=a.T\n",
    "print(\"e=\",e)\n",
    "e[0][0]=0\n",
    "print(\"e = \",e)\n",
    "print (\"a=\",a)"
   ]
  },
  {
   "cell_type": "code",
   "execution_count": 14,
   "metadata": {},
   "outputs": [
    {
     "name": "stdout",
     "output_type": "stream",
     "text": [
      "0\n"
     ]
    }
   ],
   "source": []
  }
 ],
 "metadata": {
  "kernelspec": {
   "display_name": "Python 3",
   "language": "python",
   "name": "python3"
  },
  "language_info": {
   "codemirror_mode": {
    "name": "ipython",
    "version": 3
   },
   "file_extension": ".py",
   "mimetype": "text/x-python",
   "name": "python",
   "nbconvert_exporter": "python",
   "pygments_lexer": "ipython3",
   "version": "3.7.6"
  }
 },
 "nbformat": 4,
 "nbformat_minor": 4
}
